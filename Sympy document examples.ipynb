{
 "cells": [
  {
   "cell_type": "markdown",
   "id": "be28f730",
   "metadata": {},
   "source": [
    "# [A rolling disc with Kane’s method ](https://docs.sympy.org/latest/modules/physics/mechanics/examples/rollingdisc_example_kane.html)"
   ]
  },
  {
   "cell_type": "markdown",
   "id": "be25f5ef",
   "metadata": {},
   "source": [
    "## 系統參數\n",
    "\n",
    "### Function of time\n",
    "* Angle $q_1(t),~q_2(t),~q_3(t)$\n",
    "* $u_1(t),~u_2(t),~u_3(t)$\n",
    "\n",
    "### Scalars\n",
    "* radius: r\n",
    "* mass: m\n",
    "* gravity: g\n",
    "* time: t"
   ]
  },
  {
   "cell_type": "code",
   "execution_count": 1,
   "id": "e3061907",
   "metadata": {},
   "outputs": [],
   "source": [
    "from sympy import symbols, sin, cos, tan\n",
    "from sympy.physics.mechanics import *\n",
    "q1, q2, q3, u1, u2, u3  = dynamicsymbols('q1 q2 q3 u1 u2 u3')\n",
    "q1d, q2d, q3d, u1d, u2d, u3d = dynamicsymbols('q1 q2 q3 u1 u2 u3', 1)\n",
    "r, m, g, t = symbols('r m g t')"
   ]
  },
  {
   "cell_type": "markdown",
   "id": "f6a6405c",
   "metadata": {},
   "source": [
    "## 座標轉換\n",
    "\n",
    "### Yaw-Row-Pitch rotation sequence(3-1-2)"
   ]
  },
  {
   "cell_type": "code",
   "execution_count": 5,
   "id": "6ef5e24d",
   "metadata": {},
   "outputs": [],
   "source": [
    "N = ReferenceFrame('N') # the inertia frame\n",
    "Y = N.orientnew('Y', 'Axis', [q1, N.z]) # yaw angle q1\n",
    "L = Y.orientnew('L', 'Axis', [q2, Y.x]) # roll angle q2\n",
    "R = L.orientnew('R', 'Axis', [q3, L.y]) # pitch angle q3"
   ]
  },
  {
   "cell_type": "markdown",
   "id": "68380eeb",
   "metadata": {},
   "source": [
    "#### ang_vel_in(otherframe):\n",
    "Returns the angular velocity vector of the ReferenceFrame.\n",
    "\n",
    "#### set_ang_vel(otherframe, value):\n",
    "Define the angular velocity vector in a ReferenceFrame.\n",
    "\n",
    "#### set_ang_acc(otherframe, value):\n",
    "Define the angular acceleration Vector in a ReferenceFrame."
   ]
  },
  {
   "cell_type": "code",
   "execution_count": 3,
   "id": "f6e3feb3",
   "metadata": {},
   "outputs": [],
   "source": [
    "w_R_N_qd = R.ang_vel_in(N) # angular velocity of frame R w.r.t inertia frame N\n",
    "R.set_ang_vel(N, u1 * L.x + u2 * L.y + u3 * L.z) #"
   ]
  },
  {
   "cell_type": "code",
   "execution_count": null,
   "id": "4e6fa251",
   "metadata": {},
   "outputs": [],
   "source": []
  },
  {
   "cell_type": "code",
   "execution_count": 7,
   "id": "7cb22e02",
   "metadata": {},
   "outputs": [],
   "source": [
    "C = Point('C')  # define the disc contact point C\n",
    "C.set_vel(N, 0) # velocity of disc contact point = 0"
   ]
  },
  {
   "cell_type": "markdown",
   "id": "c3254396",
   "metadata": {},
   "source": [
    "Form the position vector from the contact point to the disc’s center of mass.\n",
    "\n",
    "#### v2pt_theory(otherpoint, outframe, fixedframe):\n",
    "Sets the velocity of this point with the 2-point theory. The 2-point theory for point velocity looks like this:\n",
    "\n",
    "$$ {}^{N}v^{P} = {}^{N}v^{O} + {}^{N}\\omega^{B} \\times r^{O/P} $$\n",
    "\n",
    "where O and P are both points fixed in frame B, which is rotating in frame N."
   ]
  },
  {
   "cell_type": "code",
   "execution_count": 8,
   "id": "933c5796",
   "metadata": {},
   "outputs": [
    {
     "data": {
      "text/latex": [
       "$\\displaystyle r \\left(\\sin{\\left(\\operatorname{q_{2}}{\\left(t \\right)} \\right)} \\frac{d}{d t} \\operatorname{q_{1}}{\\left(t \\right)} + \\frac{d}{d t} \\operatorname{q_{3}}{\\left(t \\right)}\\right)\\mathbf{\\hat{l}_x} -  r \\frac{d}{d t} \\operatorname{q_{2}}{\\left(t \\right)}\\mathbf{\\hat{l}_y}$"
      ],
      "text/plain": [
       "r*(sin(q2(t))*Derivative(q1(t), t) + Derivative(q3(t), t))*L.x - r*Derivative(q2(t), t)*L.y"
      ]
     },
     "execution_count": 8,
     "metadata": {},
     "output_type": "execute_result"
    }
   ],
   "source": [
    "Dmc = C.locatenew('Dmc', r * L.z)\n",
    "Dmc.v2pt_theory(C, N, R)"
   ]
  },
  {
   "cell_type": "code",
   "execution_count": null,
   "id": "48e4578a",
   "metadata": {},
   "outputs": [],
   "source": []
  }
 ],
 "metadata": {
  "kernelspec": {
   "display_name": "Python 3",
   "language": "python",
   "name": "python3"
  },
  "language_info": {
   "codemirror_mode": {
    "name": "ipython",
    "version": 3
   },
   "file_extension": ".py",
   "mimetype": "text/x-python",
   "name": "python",
   "nbconvert_exporter": "python",
   "pygments_lexer": "ipython3",
   "version": "3.7.3"
  }
 },
 "nbformat": 4,
 "nbformat_minor": 5
}
