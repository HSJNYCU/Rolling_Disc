{
 "cells": [
  {
   "cell_type": "markdown",
   "id": "a6760487",
   "metadata": {},
   "source": [
    "# [A rolling disc with Kane’s method ](https://docs.sympy.org/latest/modules/physics/mechanics/examples/rollingdisc_example_kane.html)"
   ]
  },
  {
   "cell_type": "markdown",
   "id": "06240467",
   "metadata": {},
   "source": [
    "## 系統參數\n",
    "\n",
    "### Function of time\n",
    "* Angle $q_1(t),~q_2(t),~q_3(t)$\n",
    "* $u_1(t),~u_2(t),~u_3(t)$\n",
    "\n",
    "### Scalars\n",
    "* radius: r\n",
    "* mass: m\n",
    "* gravity: g\n",
    "* time: t"
   ]
  },
  {
   "cell_type": "code",
   "execution_count": 1,
   "id": "1941df51",
   "metadata": {},
   "outputs": [],
   "source": [
    "from sympy import symbols, sin, cos, tan\n",
    "from sympy.physics.mechanics import *\n",
    "q1, q2, q3, u1, u2, u3  = dynamicsymbols('q1 q2 q3 u1 u2 u3')\n",
    "q1d, q2d, q3d, u1d, u2d, u3d = dynamicsymbols('q1 q2 q3 u1 u2 u3', 1)\n",
    "r, m, g, t = symbols('r m g t')"
   ]
  },
  {
   "cell_type": "markdown",
   "id": "a3033a1e",
   "metadata": {},
   "source": [
    "## 座標轉換\n",
    "\n",
    "### Yaw-Row-Pitch rotation sequence(3-1-2)"
   ]
  },
  {
   "cell_type": "code",
   "execution_count": 5,
   "id": "8d53cb5d",
   "metadata": {},
   "outputs": [],
   "source": [
    "N = ReferenceFrame('N') # the inertia frame\n",
    "Y = N.orientnew('Y', 'Axis', [q1, N.z]) # yaw angle q1\n",
    "L = Y.orientnew('L', 'Axis', [q2, Y.x]) # roll angle q2\n",
    "R = L.orientnew('R', 'Axis', [q3, L.y]) # pitch angle q3"
   ]
  },
  {
   "cell_type": "markdown",
   "id": "df17faf2",
   "metadata": {},
   "source": [
    "#### ang_vel_in(otherframe):\n",
    "Returns the angular velocity vector of the ReferenceFrame.\n",
    "\n",
    "#### set_ang_vel(otherframe, value):\n",
    "Define the angular velocity vector in a ReferenceFrame.\n",
    "\n",
    "#### set_ang_acc(otherframe, value):\n",
    "Define the angular acceleration Vector in a ReferenceFrame."
   ]
  },
  {
   "cell_type": "code",
   "execution_count": 3,
   "id": "c124a041",
   "metadata": {},
   "outputs": [],
   "source": [
    "w_R_N_qd = R.ang_vel_in(N) # angular velocity of frame R w.r.t inertia frame N\n",
    "R.set_ang_vel(N, u1 * L.x + u2 * L.y + u3 * L.z) #"
   ]
  },
  {
   "cell_type": "code",
   "execution_count": 4,
   "id": "dd8db31c",
   "metadata": {},
   "outputs": [
    {
     "data": {
      "text/latex": [
       "$\\displaystyle \\frac{d}{d t} \\operatorname{q_{3}}{\\left(t \\right)}\\mathbf{\\hat{l}_y} + \\frac{d}{d t} \\operatorname{q_{2}}{\\left(t \\right)}\\mathbf{\\hat{y}_x} + \\frac{d}{d t} \\operatorname{q_{1}}{\\left(t \\right)}\\mathbf{\\hat{n}_z}$"
      ],
      "text/plain": [
       "Derivative(q1(t), t)*N.z + Derivative(q2(t), t)*Y.x + Derivative(q3(t), t)*L.y"
      ]
     },
     "execution_count": 4,
     "metadata": {},
     "output_type": "execute_result"
    }
   ],
   "source": [
    "w_R_N_qd"
   ]
  }
 ],
 "metadata": {
  "kernelspec": {
   "display_name": "Python 3",
   "language": "python",
   "name": "python3"
  },
  "language_info": {
   "codemirror_mode": {
    "name": "ipython",
    "version": 3
   },
   "file_extension": ".py",
   "mimetype": "text/x-python",
   "name": "python",
   "nbconvert_exporter": "python",
   "pygments_lexer": "ipython3",
   "version": "3.7.3"
  }
 },
 "nbformat": 4,
 "nbformat_minor": 5
}
